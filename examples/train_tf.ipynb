{
 "cells": [
  {
   "cell_type": "code",
   "execution_count": 3,
   "id": "1126eb6b-b70d-495b-9cb5-889ab074246a",
   "metadata": {},
   "outputs": [
    {
     "data": {
      "text/plain": [
       "'2.8.0'"
      ]
     },
     "execution_count": 3,
     "metadata": {},
     "output_type": "execute_result"
    }
   ],
   "source": [
    "import tensorflow as tf\n",
    "\n",
    "tf.__version__"
   ]
  },
  {
   "cell_type": "code",
   "execution_count": 4,
   "id": "5663327e-e9ac-4ed1-9b60-2ce4b7174a56",
   "metadata": {},
   "outputs": [
    {
     "data": {
      "text/plain": [
       "[PhysicalDevice(name='/physical_device:CPU:0', device_type='CPU'),\n",
       " PhysicalDevice(name='/physical_device:GPU:0', device_type='GPU')]"
      ]
     },
     "execution_count": 4,
     "metadata": {},
     "output_type": "execute_result"
    }
   ],
   "source": [
    "tf.config.list_physical_devices()"
   ]
  },
  {
   "cell_type": "code",
   "execution_count": 5,
   "id": "130ca67b-6c21-493c-9e0f-f7cbe123100c",
   "metadata": {},
   "outputs": [
    {
     "name": "stdout",
     "output_type": "stream",
     "text": [
      "Metal device set to: Apple M1 Pro\n"
     ]
    },
    {
     "name": "stderr",
     "output_type": "stream",
     "text": [
      "2022-02-23 19:24:13.580288: I tensorflow/core/common_runtime/pluggable_device/pluggable_device_factory.cc:305] Could not identify NUMA node of platform GPU ID 0, defaulting to 0. Your kernel may not have been built with NUMA support.\n",
      "2022-02-23 19:24:13.580806: I tensorflow/core/common_runtime/pluggable_device/pluggable_device_factory.cc:271] Created TensorFlow device (/job:localhost/replica:0/task:0/device:GPU:0 with 0 MB memory) -> physical PluggableDevice (device: 0, name: METAL, pci bus id: <undefined>)\n"
     ]
    }
   ],
   "source": [
    "import numpy as np\n",
    "\n",
    "X = np.arange(1, 101, step=0.1)\n",
    "y = [x + 10 for x in X]\n",
    "\n",
    "X = tf.cast(tf.constant(X), dtype=tf.float32)\n",
    "y = tf.cast(tf.constant(y), dtype=tf.float32)"
   ]
  },
  {
   "cell_type": "code",
   "execution_count": 7,
   "id": "f8e65d91-c0ea-4c6e-af55-7ffa5aa5ba87",
   "metadata": {},
   "outputs": [
    {
     "name": "stdout",
     "output_type": "stream",
     "text": [
      "Epoch 1/100\n"
     ]
    },
    {
     "name": "stderr",
     "output_type": "stream",
     "text": [
      "2022-02-23 19:26:32.602669: W tensorflow/core/platform/profile_utils/cpu_utils.cc:128] Failed to get CPU frequency: 0 Hz\n",
      "2022-02-23 19:26:32.809240: I tensorflow/core/grappler/optimizers/custom_graph_optimizer_registry.cc:113] Plugin optimizer for device_type GPU is enabled.\n"
     ]
    },
    {
     "name": "stdout",
     "output_type": "stream",
     "text": [
      "32/32 [==============================] - 3s 15ms/step - loss: 21.9014 - mean_absolute_error: 21.9014\n",
      "Epoch 2/100\n",
      "32/32 [==============================] - 0s 5ms/step - loss: 6.8308 - mean_absolute_error: 6.8308\n",
      "Epoch 3/100\n",
      "32/32 [==============================] - 0s 5ms/step - loss: 11.8956 - mean_absolute_error: 11.8956\n",
      "Epoch 4/100\n",
      "32/32 [==============================] - 0s 5ms/step - loss: 5.8098 - mean_absolute_error: 5.8098\n",
      "Epoch 5/100\n",
      "32/32 [==============================] - 0s 5ms/step - loss: 4.6288 - mean_absolute_error: 4.6288\n",
      "Epoch 6/100\n",
      "32/32 [==============================] - 0s 5ms/step - loss: 4.0982 - mean_absolute_error: 4.0982\n",
      "Epoch 7/100\n",
      "32/32 [==============================] - 0s 5ms/step - loss: 3.6685 - mean_absolute_error: 3.6685\n",
      "Epoch 8/100\n",
      "32/32 [==============================] - 0s 5ms/step - loss: 2.3702 - mean_absolute_error: 2.3702\n",
      "Epoch 9/100\n",
      "32/32 [==============================] - 0s 5ms/step - loss: 1.7670 - mean_absolute_error: 1.7670\n",
      "Epoch 10/100\n",
      "32/32 [==============================] - 0s 5ms/step - loss: 7.0751 - mean_absolute_error: 7.0751\n",
      "Epoch 11/100\n",
      "32/32 [==============================] - 0s 5ms/step - loss: 2.4033 - mean_absolute_error: 2.4033\n",
      "Epoch 12/100\n",
      "32/32 [==============================] - 0s 5ms/step - loss: 3.7990 - mean_absolute_error: 3.7990\n",
      "Epoch 13/100\n",
      "32/32 [==============================] - 0s 5ms/step - loss: 3.7709 - mean_absolute_error: 3.7709\n",
      "Epoch 14/100\n",
      "32/32 [==============================] - 0s 5ms/step - loss: 2.5955 - mean_absolute_error: 2.5955\n",
      "Epoch 15/100\n",
      "32/32 [==============================] - 0s 5ms/step - loss: 3.4369 - mean_absolute_error: 3.4369\n",
      "Epoch 16/100\n",
      "32/32 [==============================] - 0s 5ms/step - loss: 2.5378 - mean_absolute_error: 2.5378\n",
      "Epoch 17/100\n",
      "32/32 [==============================] - 0s 5ms/step - loss: 5.9943 - mean_absolute_error: 5.9943\n",
      "Epoch 18/100\n",
      "32/32 [==============================] - 0s 5ms/step - loss: 3.4661 - mean_absolute_error: 3.4661\n",
      "Epoch 19/100\n",
      "32/32 [==============================] - 0s 5ms/step - loss: 2.5265 - mean_absolute_error: 2.5265\n",
      "Epoch 20/100\n",
      "32/32 [==============================] - 0s 5ms/step - loss: 2.1066 - mean_absolute_error: 2.1066\n",
      "Epoch 21/100\n",
      "32/32 [==============================] - 0s 5ms/step - loss: 3.8505 - mean_absolute_error: 3.8505\n",
      "Epoch 22/100\n",
      "32/32 [==============================] - 0s 5ms/step - loss: 2.2050 - mean_absolute_error: 2.2050\n",
      "Epoch 23/100\n",
      "32/32 [==============================] - 0s 5ms/step - loss: 1.9835 - mean_absolute_error: 1.9835\n",
      "Epoch 24/100\n",
      "32/32 [==============================] - 0s 5ms/step - loss: 1.8227 - mean_absolute_error: 1.8227\n",
      "Epoch 25/100\n",
      "32/32 [==============================] - 0s 5ms/step - loss: 3.5009 - mean_absolute_error: 3.5009\n",
      "Epoch 26/100\n",
      "32/32 [==============================] - 0s 5ms/step - loss: 4.1941 - mean_absolute_error: 4.1941\n",
      "Epoch 27/100\n",
      "32/32 [==============================] - 0s 5ms/step - loss: 3.6240 - mean_absolute_error: 3.6240\n",
      "Epoch 28/100\n",
      "32/32 [==============================] - 0s 5ms/step - loss: 3.1197 - mean_absolute_error: 3.1197\n",
      "Epoch 29/100\n",
      "32/32 [==============================] - 0s 5ms/step - loss: 3.0488 - mean_absolute_error: 3.0488\n",
      "Epoch 30/100\n",
      "32/32 [==============================] - 0s 5ms/step - loss: 2.6249 - mean_absolute_error: 2.6249\n",
      "Epoch 31/100\n",
      "32/32 [==============================] - 0s 5ms/step - loss: 3.5655 - mean_absolute_error: 3.5655\n",
      "Epoch 32/100\n",
      "32/32 [==============================] - 0s 5ms/step - loss: 3.5619 - mean_absolute_error: 3.5619\n",
      "Epoch 33/100\n",
      "32/32 [==============================] - 0s 5ms/step - loss: 3.5645 - mean_absolute_error: 3.5645\n",
      "Epoch 34/100\n",
      "32/32 [==============================] - 0s 6ms/step - loss: 1.9592 - mean_absolute_error: 1.9592\n",
      "Epoch 35/100\n",
      "32/32 [==============================] - 0s 6ms/step - loss: 2.1996 - mean_absolute_error: 2.1996\n",
      "Epoch 36/100\n",
      "32/32 [==============================] - 0s 5ms/step - loss: 1.6957 - mean_absolute_error: 1.6957\n",
      "Epoch 37/100\n",
      "32/32 [==============================] - 0s 5ms/step - loss: 2.2541 - mean_absolute_error: 2.2541\n",
      "Epoch 38/100\n",
      "32/32 [==============================] - 0s 5ms/step - loss: 1.7986 - mean_absolute_error: 1.7986\n",
      "Epoch 39/100\n",
      "32/32 [==============================] - 0s 5ms/step - loss: 1.7871 - mean_absolute_error: 1.7871\n",
      "Epoch 40/100\n",
      "32/32 [==============================] - 0s 5ms/step - loss: 2.0905 - mean_absolute_error: 2.0905\n",
      "Epoch 41/100\n",
      "32/32 [==============================] - 0s 5ms/step - loss: 1.3861 - mean_absolute_error: 1.3861\n",
      "Epoch 42/100\n",
      "32/32 [==============================] - 0s 5ms/step - loss: 3.3511 - mean_absolute_error: 3.3511\n",
      "Epoch 43/100\n",
      "32/32 [==============================] - 0s 5ms/step - loss: 1.3546 - mean_absolute_error: 1.3546\n",
      "Epoch 44/100\n",
      "32/32 [==============================] - 0s 5ms/step - loss: 1.6427 - mean_absolute_error: 1.6427\n",
      "Epoch 45/100\n",
      "32/32 [==============================] - 0s 5ms/step - loss: 2.4942 - mean_absolute_error: 2.4942\n",
      "Epoch 46/100\n",
      "32/32 [==============================] - 0s 5ms/step - loss: 3.1294 - mean_absolute_error: 3.1294\n",
      "Epoch 47/100\n",
      "32/32 [==============================] - 0s 6ms/step - loss: 1.9601 - mean_absolute_error: 1.9601\n",
      "Epoch 48/100\n",
      "32/32 [==============================] - 0s 5ms/step - loss: 2.6045 - mean_absolute_error: 2.6045\n",
      "Epoch 49/100\n",
      "32/32 [==============================] - 0s 5ms/step - loss: 2.6548 - mean_absolute_error: 2.6548\n",
      "Epoch 50/100\n",
      "32/32 [==============================] - 0s 5ms/step - loss: 2.1925 - mean_absolute_error: 2.1925\n",
      "Epoch 51/100\n",
      "32/32 [==============================] - 0s 5ms/step - loss: 1.4851 - mean_absolute_error: 1.4851\n",
      "Epoch 52/100\n",
      "32/32 [==============================] - 0s 5ms/step - loss: 3.1550 - mean_absolute_error: 3.1550\n",
      "Epoch 53/100\n",
      "32/32 [==============================] - 0s 5ms/step - loss: 1.6649 - mean_absolute_error: 1.6649\n",
      "Epoch 54/100\n",
      "32/32 [==============================] - 0s 5ms/step - loss: 3.1175 - mean_absolute_error: 3.1175\n",
      "Epoch 55/100\n",
      "32/32 [==============================] - 0s 5ms/step - loss: 4.1524 - mean_absolute_error: 4.1524\n",
      "Epoch 56/100\n",
      "32/32 [==============================] - 0s 5ms/step - loss: 3.0639 - mean_absolute_error: 3.0639\n",
      "Epoch 57/100\n",
      "32/32 [==============================] - 0s 5ms/step - loss: 3.3218 - mean_absolute_error: 3.3218\n",
      "Epoch 58/100\n",
      "32/32 [==============================] - 0s 5ms/step - loss: 2.6421 - mean_absolute_error: 2.6421\n",
      "Epoch 59/100\n",
      "32/32 [==============================] - 0s 5ms/step - loss: 1.4740 - mean_absolute_error: 1.4740\n",
      "Epoch 60/100\n",
      "32/32 [==============================] - 0s 5ms/step - loss: 2.0190 - mean_absolute_error: 2.0190\n",
      "Epoch 61/100\n",
      "32/32 [==============================] - 0s 5ms/step - loss: 1.9656 - mean_absolute_error: 1.9656\n",
      "Epoch 62/100\n",
      "32/32 [==============================] - 0s 5ms/step - loss: 1.8822 - mean_absolute_error: 1.8822\n",
      "Epoch 63/100\n",
      "32/32 [==============================] - 0s 5ms/step - loss: 0.9286 - mean_absolute_error: 0.9286\n",
      "Epoch 64/100\n",
      "32/32 [==============================] - 0s 5ms/step - loss: 2.1723 - mean_absolute_error: 2.1723\n",
      "Epoch 65/100\n",
      "32/32 [==============================] - 0s 5ms/step - loss: 4.0413 - mean_absolute_error: 4.0413\n",
      "Epoch 66/100\n",
      "32/32 [==============================] - 0s 5ms/step - loss: 1.6768 - mean_absolute_error: 1.6768\n",
      "Epoch 67/100\n",
      "32/32 [==============================] - 0s 5ms/step - loss: 2.4310 - mean_absolute_error: 2.4310\n",
      "Epoch 68/100\n",
      "32/32 [==============================] - 0s 5ms/step - loss: 3.2909 - mean_absolute_error: 3.2909\n",
      "Epoch 69/100\n",
      "32/32 [==============================] - 0s 5ms/step - loss: 1.1483 - mean_absolute_error: 1.1483\n",
      "Epoch 70/100\n",
      "32/32 [==============================] - 0s 5ms/step - loss: 1.2524 - mean_absolute_error: 1.2524\n",
      "Epoch 71/100\n",
      "32/32 [==============================] - 0s 5ms/step - loss: 1.4580 - mean_absolute_error: 1.4580\n",
      "Epoch 72/100\n",
      "32/32 [==============================] - 0s 5ms/step - loss: 1.5682 - mean_absolute_error: 1.5682\n",
      "Epoch 73/100\n",
      "32/32 [==============================] - 0s 5ms/step - loss: 1.8884 - mean_absolute_error: 1.8884\n",
      "Epoch 74/100\n",
      "32/32 [==============================] - 0s 5ms/step - loss: 3.2793 - mean_absolute_error: 3.2793\n",
      "Epoch 75/100\n",
      "32/32 [==============================] - 0s 5ms/step - loss: 0.6688 - mean_absolute_error: 0.6688\n",
      "Epoch 76/100\n",
      "32/32 [==============================] - 0s 5ms/step - loss: 1.1072 - mean_absolute_error: 1.1072\n",
      "Epoch 77/100\n",
      "32/32 [==============================] - 0s 5ms/step - loss: 2.3284 - mean_absolute_error: 2.3284\n",
      "Epoch 78/100\n",
      "32/32 [==============================] - 0s 5ms/step - loss: 1.8148 - mean_absolute_error: 1.8148\n",
      "Epoch 79/100\n",
      "32/32 [==============================] - 0s 5ms/step - loss: 1.2368 - mean_absolute_error: 1.2368\n",
      "Epoch 80/100\n",
      "32/32 [==============================] - 0s 5ms/step - loss: 1.9305 - mean_absolute_error: 1.9305\n",
      "Epoch 81/100\n",
      "32/32 [==============================] - 0s 5ms/step - loss: 2.0639 - mean_absolute_error: 2.0639\n",
      "Epoch 82/100\n",
      "32/32 [==============================] - 0s 5ms/step - loss: 2.1731 - mean_absolute_error: 2.1731\n",
      "Epoch 83/100\n",
      "32/32 [==============================] - 0s 5ms/step - loss: 4.0713 - mean_absolute_error: 4.0713\n",
      "Epoch 84/100\n",
      "32/32 [==============================] - 0s 5ms/step - loss: 3.5762 - mean_absolute_error: 3.5762\n",
      "Epoch 85/100\n",
      "32/32 [==============================] - 0s 5ms/step - loss: 2.1688 - mean_absolute_error: 2.1688\n",
      "Epoch 86/100\n",
      "32/32 [==============================] - 0s 5ms/step - loss: 3.2231 - mean_absolute_error: 3.2231\n",
      "Epoch 87/100\n",
      "32/32 [==============================] - 0s 5ms/step - loss: 1.9912 - mean_absolute_error: 1.9912\n",
      "Epoch 88/100\n",
      "32/32 [==============================] - 0s 5ms/step - loss: 1.1806 - mean_absolute_error: 1.1806\n",
      "Epoch 89/100\n",
      "32/32 [==============================] - 0s 5ms/step - loss: 1.2393 - mean_absolute_error: 1.2393\n",
      "Epoch 90/100\n",
      "32/32 [==============================] - 0s 5ms/step - loss: 1.9613 - mean_absolute_error: 1.9613\n",
      "Epoch 91/100\n",
      "32/32 [==============================] - 0s 5ms/step - loss: 1.6879 - mean_absolute_error: 1.6879\n",
      "Epoch 92/100\n",
      "32/32 [==============================] - 0s 5ms/step - loss: 1.5076 - mean_absolute_error: 1.5076\n",
      "Epoch 93/100\n",
      "32/32 [==============================] - 0s 6ms/step - loss: 2.4626 - mean_absolute_error: 2.4626\n",
      "Epoch 94/100\n",
      "32/32 [==============================] - 0s 8ms/step - loss: 1.4040 - mean_absolute_error: 1.4040\n",
      "Epoch 95/100\n",
      "32/32 [==============================] - 0s 6ms/step - loss: 1.1736 - mean_absolute_error: 1.1736\n",
      "Epoch 96/100\n",
      "32/32 [==============================] - 0s 5ms/step - loss: 3.5226 - mean_absolute_error: 3.5226\n",
      "Epoch 97/100\n",
      "32/32 [==============================] - 0s 5ms/step - loss: 1.1437 - mean_absolute_error: 1.1437\n",
      "Epoch 98/100\n",
      "32/32 [==============================] - 0s 5ms/step - loss: 4.4213 - mean_absolute_error: 4.4213\n",
      "Epoch 99/100\n",
      "32/32 [==============================] - 0s 5ms/step - loss: 1.5114 - mean_absolute_error: 1.5114\n",
      "Epoch 100/100\n",
      "32/32 [==============================] - 0s 5ms/step - loss: 1.8508 - mean_absolute_error: 1.8508\n"
     ]
    },
    {
     "data": {
      "text/plain": [
       "<keras.callbacks.History at 0x1577061c0>"
      ]
     },
     "execution_count": 7,
     "metadata": {},
     "output_type": "execute_result"
    }
   ],
   "source": [
    "model = tf.keras.Sequential([\n",
    "    tf.keras.layers.Dense(64, input_shape=(1,), activation='relu'),\n",
    "    tf.keras.layers.Dense(64, activation='relu'),\n",
    "    tf.keras.layers.Dense(1)\n",
    "])\n",
    "\n",
    "model.compile(\n",
    "    loss=tf.keras.losses.mean_absolute_error,\n",
    "    optimizer=tf.keras.optimizers.Adam(learning_rate=0.1),\n",
    "    metrics=['mean_absolute_error']\n",
    ")\n",
    "\n",
    "model.fit(X, y, epochs=100)"
   ]
  },
  {
   "cell_type": "code",
   "execution_count": 8,
   "id": "392acf1d-45b3-45d9-8260-636017f62252",
   "metadata": {},
   "outputs": [
    {
     "name": "stderr",
     "output_type": "stream",
     "text": [
      "2022-02-23 19:27:04.288787: I tensorflow/core/grappler/optimizers/custom_graph_optimizer_registry.cc:113] Plugin optimizer for device_type GPU is enabled.\n"
     ]
    },
    {
     "data": {
      "text/plain": [
       "array([[20.639446],\n",
       "       [31.102337],\n",
       "       [41.519943]], dtype=float32)"
      ]
     },
     "execution_count": 8,
     "metadata": {},
     "output_type": "execute_result"
    }
   ],
   "source": [
    "model.predict([10,20,30])"
   ]
  },
  {
   "cell_type": "code",
   "execution_count": null,
   "id": "b3f9c1cc-0f7b-4bbb-a689-b985aa3f84a2",
   "metadata": {},
   "outputs": [],
   "source": []
  }
 ],
 "metadata": {
  "kernelspec": {
   "display_name": "Python 3 (ipykernel)",
   "language": "python",
   "name": "python3"
  },
  "language_info": {
   "codemirror_mode": {
    "name": "ipython",
    "version": 3
   },
   "file_extension": ".py",
   "mimetype": "text/x-python",
   "name": "python",
   "nbconvert_exporter": "python",
   "pygments_lexer": "ipython3",
   "version": "3.9.10"
  }
 },
 "nbformat": 4,
 "nbformat_minor": 5
}
